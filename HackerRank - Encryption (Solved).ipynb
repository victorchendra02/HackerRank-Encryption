{
 "cells": [
  {
   "cell_type": "code",
   "execution_count": 3,
   "metadata": {},
   "outputs": [
    {
     "data": {
      "text/plain": [
       "'imtgdvs fearwer mayoogo anouuio ntnnlvt wttddes aohghn sseoau'"
      ]
     },
     "execution_count": 3,
     "metadata": {},
     "output_type": "execute_result"
    }
   ],
   "source": [
    "# HackerRank - Encryption\n",
    "# By: Victor Chendra\n",
    "\n",
    "def encryption(s: str) -> str:\n",
    "    from math import floor, ceil, sqrt\n",
    "\n",
    "    s = s.replace(\" \", \"\")\n",
    "\n",
    "    L = len(s)\n",
    "    square = sqrt(L)\n",
    "    rows = floor(square)\n",
    "    columns = ceil(square)\n",
    "    \n",
    "    encrypt = \"\"\n",
    "    for i in range(L):\n",
    "        if i % columns == 0:        \n",
    "            if i != 0:\n",
    "                encrypt += \" \"\n",
    "            \n",
    "        encrypt += s[i]\n",
    "\n",
    "    list_encrypt = encrypt.split(\" \")\n",
    "    del encrypt\n",
    "    \n",
    "    if len(list_encrypt[-1]) < columns:\n",
    "        add_white_space = \"_\" * (columns - len(list_encrypt[-1]))\n",
    "        list_encrypt[-1] = list_encrypt[-1] + add_white_space\n",
    "\n",
    "    encrypt = \"\"\n",
    "    for j in range(len(list_encrypt[0])):\n",
    "        for k in range(len(list_encrypt)):\n",
    "            encrypt += list_encrypt[k][j]\n",
    "        \n",
    "        if j != len(list_encrypt[0])-1:\n",
    "            encrypt += \" \"\n",
    "    \n",
    "    return encrypt.replace(\"_\", \"\")\n",
    "\n",
    "\n",
    "encryption(\"if man was meant to stay on the ground god would have given us roots\")\n"
   ]
  },
  {
   "cell_type": "code",
   "execution_count": null,
   "metadata": {},
   "outputs": [],
   "source": []
  }
 ],
 "metadata": {
  "kernelspec": {
   "display_name": "Python 3",
   "language": "python",
   "name": "python3"
  },
  "language_info": {
   "codemirror_mode": {
    "name": "ipython",
    "version": 3
   },
   "file_extension": ".py",
   "mimetype": "text/x-python",
   "name": "python",
   "nbconvert_exporter": "python",
   "pygments_lexer": "ipython3",
   "version": "3.10.2"
  },
  "orig_nbformat": 4,
  "vscode": {
   "interpreter": {
    "hash": "ae1ddcff7fb3589e56c1735bd04bc544f28a9960cac663cd0016f5d7384b912c"
   }
  }
 },
 "nbformat": 4,
 "nbformat_minor": 2
}
